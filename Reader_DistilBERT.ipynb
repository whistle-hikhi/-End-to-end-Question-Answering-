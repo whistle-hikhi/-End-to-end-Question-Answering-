{
  "nbformat": 4,
  "nbformat_minor": 0,
  "metadata": {
    "colab": {
      "provenance": [],
      "authorship_tag": "ABX9TyNkqqBVttMMgsDpEU6WZU7W"
    },
    "kernelspec": {
      "name": "python3",
      "display_name": "Python 3"
    },
    "language_info": {
      "name": "python"
    }
  },
  "cells": [
    {
      "cell_type": "markdown",
      "source": [
        "# Reader: DistilBERT"
      ],
      "metadata": {
        "id": "tSKAYcT5mj_c"
      }
    },
    {
      "cell_type": "markdown",
      "source": [
        "## Install and import libraries"
      ],
      "metadata": {
        "id": "qIYsF2w0mnmH"
      }
    },
    {
      "cell_type": "code",
      "execution_count": null,
      "metadata": {
        "id": "ZffGdja7mXUO"
      },
      "outputs": [],
      "source": [
        "!pip install-qq datasets==2.16.1 evaluate==0.4.1 transformers[sentencepiece]==4.35.2\n",
        "!pip install-qq accelerate==0.26.1\n",
        "!apt install git-lfs"
      ]
    },
    {
      "cell_type": "code",
      "source": [
        "from huggingface_hub import notebook_login\n",
        "notebook_login()"
      ],
      "metadata": {
        "id": "H7X9An3bmtrO"
      },
      "execution_count": null,
      "outputs": []
    },
    {
      "cell_type": "code",
      "source": [
        "import numpy as np\n",
        "from tqdm.auto import tqdm\n",
        "import collections\n",
        "\n",
        "import torch\n",
        "\n",
        "from datasets import load_dataset\n",
        "from transformers import AutoTokenizer\n",
        "from transformers import AutoModelForQuestionAnswering\n",
        "from transformers import TrainingArguments\n",
        "from transformers import Trainer\n",
        "import evaluate\n",
        "\n",
        "device = torch.device(\"cuda\") if torch.cuda.is_available() else \\\n",
        "torch.device(\"cpu\")"
      ],
      "metadata": {
        "id": "zSUxRg-2muOK"
      },
      "execution_count": null,
      "outputs": []
    },
    {
      "cell_type": "markdown",
      "source": [
        "## Setup config"
      ],
      "metadata": {
        "id": "lh0f0_AFmwMQ"
      }
    },
    {
      "cell_type": "code",
      "source": [
        "# Sử dụng mô hình \"distilbert-base-uncased\" làm mô hình checkpoint\n",
        "MODEL_NAME = \"distilbert-base-uncased\"\n",
        "\n",
        "# Độ dài tối đa cho mỗi đoạn văn bản sau khi được xử lý\n",
        "MAX_LENGTH = 384\n",
        "\n",
        "# Khoảng cách giữa các điểm bắt đầu của các đoạn văn bản liên tiếp\n",
        "STRIDE = 128"
      ],
      "metadata": {
        "id": "1Oz-ayzQmx8W"
      },
      "execution_count": null,
      "outputs": []
    },
    {
      "cell_type": "markdown",
      "source": [
        "## Setup Dataset"
      ],
      "metadata": {
        "id": "31X1hfPxm07B"
      }
    },
    {
      "cell_type": "code",
      "source": [
        "# Download squad dataset từ HuggingFace\n",
        "DATASET_NAME = 'squad_v2'\n",
        "raw_datasets = load_dataset(DATASET_NAME)"
      ],
      "metadata": {
        "id": "vmx7ZgsJm3TL"
      },
      "execution_count": null,
      "outputs": []
    },
    {
      "cell_type": "code",
      "source": [
        "# Load tokenizer để run một số example\n",
        "tokenizer = AutoTokenizer.from_pretrained(MODEL_NAME)"
      ],
      "metadata": {
        "id": "sp7b-eB7m5g3"
      },
      "execution_count": null,
      "outputs": []
    },
    {
      "cell_type": "markdown",
      "source": [
        "## Tokenize Dataset"
      ],
      "metadata": {
        "id": "iynzHL9pm7g4"
      }
    },
    {
      "cell_type": "code",
      "source": [
        "def preprocess_training_examples(examples):\n",
        "    # Trích xuất danh sách câu hỏi từ examples và\n",
        "    # loại bỏ các khoảng trắng dư thừa\n",
        "    questions = [q.strip() for q in examples[\"question\"]]\n",
        "    # Tiến hành mã hóa thông tin đầu vào sử dụng tokenizer\n",
        "    inputs = tokenizer(\n",
        "        questions,\n",
        "        examples[\"context\"],\n",
        "        max_length=MAX_LENGTH,\n",
        "        truncation=\"only_second\",\n",
        "        stride=STRIDE,\n",
        "        return_overflowing_tokens=True,\n",
        "        return_offsets_mapping=True,\n",
        "        padding=\"max_length\",\n",
        "    )\n",
        "\n",
        "    # Trích xuất offset_mapping từ inputs và loại bỏ nó ra khỏi inputs\n",
        "    offset_mapping = inputs.pop(\"offset_mapping\")\n",
        "\n",
        "    # Trích xuất sample_map từ inputs và loại bỏ nó ra khỏi inputs\n",
        "    sample_map = inputs.pop(\"overflow_to_sample_mapping\")\n",
        "\n",
        "    # Trích xuất thông tin về câu trả lời (answers) từ examples\n",
        "    answers = examples[\"answers\"]\n",
        "\n",
        "    # Khởi tạo danh sách các vị trí bắt đầu và kết thúc câu trả lời\n",
        "    start_positions = []\n",
        "    end_positions = []\n",
        "\n",
        "    # Duyệt qua danh sách offset_mapping\n",
        "    for i, offset in enumerate(offset_mapping):\n",
        "        # Xác định index của mẫu (sample) liên quan đến offset hiện tại\n",
        "        sample_idx = sample_map[i]\n",
        "\n",
        "        # Trích xuất sequence_ids từ inputs\n",
        "        sequence_ids = inputs.sequence_ids(i)\n",
        "\n",
        "        # Xác định vị trí bắt đầu và kết thúc của ngữ cảnh\n",
        "        idx = 0\n",
        "        while sequence_ids[idx] != 1:\n",
        "            idx += 1\n",
        "        context_start = idx\n",
        "        while sequence_ids[idx] == 1:\n",
        "            idx += 1\n",
        "        context_end = idx- 1\n",
        "\n",
        "        # Trích xuất thông tin về câu trả lời cho mẫu này\n",
        "        answer = answers[sample_idx]\n",
        "\n",
        "        if len(answer[’text’]) == 0:\n",
        "            start_positions.append(0)\n",
        "            end_positions.append(0)\n",
        "        else:\n",
        "            # Xác định vị trí ký tự bắt đầu và kết thúc của câu trả lời\n",
        "            # trong ngữ cảnh\n",
        "            start_char = answer[\"answer_start\"][0]\n",
        "            end_char = answer[\"answer_start\"][0] + len(answer[\"text\"][0])\n",
        "\n",
        "            # Nếu câu trả lời không nằm hoàn toàn trong ngữ cảnh,\n",
        "            # gán nhãn là (0, 0)\n",
        "            if offset[context_start][0] > start_char\n",
        "                or offset[context_end][1] < end_char:\n",
        "                    start_positions.append(0)\n",
        "                    end_positions.append(0)\n",
        "        else:\n",
        "            # Nếu không, gán vị trí bắt đầu và kết thúc dựa trên\n",
        "            # vị trí của các mã thông tin\n",
        "            idx = context_start\n",
        "            while idx <= context_end and offset[idx][0] <= start_char:\n",
        "                idx += 1\n",
        "            start_positions.append(idx- 1)\n",
        "\n",
        "            idx = context_end\n",
        "            while idx >= context_start and offset[idx][1] >= end_char:\n",
        "                idx-= 1\n",
        "            end_positions.append(idx + 1)\n",
        "\n",
        "            # Thêm thông tin vị trí bắt đầu và kết thúc vào inputs\n",
        "            inputs[\"start_positions\"] = start_positions\n",
        "            inputs[\"end_positions\"] = end_positions\n",
        "\n",
        "    return inputs"
      ],
      "metadata": {
        "id": "1cgwAeaym9XK"
      },
      "execution_count": null,
      "outputs": []
    },
    {
      "cell_type": "code",
      "source": [
        "train_dataset = raw_datasets[\"train\"].map(\n",
        "    preprocess_training_examples,\n",
        "    batched=True,\n",
        "    remove_columns=raw_datasets[\"train\"].column_names,\n",
        ")\n",
        "\n",
        "# In ra độ dài của tập dữ liệu \"train\" ban đầu và\n",
        "# độ dài của tập dữ liệu đã được xử lý (train_dataset)\n",
        "len(raw_datasets[\"train\"]), len(train_dataset)"
      ],
      "metadata": {
        "id": "khU5jSlWnHVS"
      },
      "execution_count": null,
      "outputs": []
    },
    {
      "cell_type": "code",
      "source": [
        "def preprocess_validation_examples(examples):\n",
        "    # Chuẩn bị danh sách câu hỏi bằng cách\n",
        "    # loại bỏ khoảng trắng ở đầu và cuối mỗi câu hỏi\n",
        "    questions = [q.strip() for q in examples[\"question\"]]\n",
        "\n",
        "    # Sử dụng tokenizer để mã hóa các câu hỏi và văn bản liên quan\n",
        "    inputs = tokenizer(\n",
        "        questions,\n",
        "        examples[\"context\"],\n",
        "        max_length=MAX_LENGTH,\n",
        "        truncation=\"only_second\",\n",
        "        stride=STRIDE,\n",
        "\n",
        "        return_overflowing_tokens=True,\n",
        "        return_offsets_mapping=True,\n",
        "        padding=\"max_length\",\n",
        "    )\n",
        "\n",
        "    # Lấy ánh xạ để ánh xạ lại ví dụ tham chiếu cho từng dòng trong inputs\n",
        "    sample_map = inputs.pop(\"overflow_to_sample_mapping\")\n",
        "    example_ids = []\n",
        "\n",
        "    # Xác định ví dụ tham chiếu cho mỗi dòng đầu vào và\n",
        "    # điều chỉnh ánh xạ offset\n",
        "    for i in range(len(inputs[\"input_ids\"])):\n",
        "        sample_idx = sample_map[i]\n",
        "        example_ids.append(examples[\"id\"][sample_idx])\n",
        "\n",
        "        sequence_ids = inputs.sequence_ids(i)\n",
        "        offset = inputs[\"offset_mapping\"][i]\n",
        "\n",
        "        # Loại bỏ các offset không phù hợp với sequence_ids\n",
        "        inputs[\"offset_mapping\"][i] = [\n",
        "        o if sequence_ids[k] == 1 else None \\\n",
        "        for k, o in enumerate(offset)\n",
        "        ]\n",
        "\n",
        "    # Thêm thông tin ví dụ tham chiếu vào đầu vào\n",
        "    inputs[\"example_id\"] = example_ids\n",
        "\n",
        "    return inputs"
      ],
      "metadata": {
        "id": "K7_Rlg_mnIzG"
      },
      "execution_count": null,
      "outputs": []
    },
    {
      "cell_type": "code",
      "source": [
        "validation_dataset = raw_datasets[\"validation\"].map(\n",
        "    preprocess_validation_examples,\n",
        "    batched=True,\n",
        "    remove_columns=raw_datasets[\"validation\"].column_names,\n",
        ")\n",
        "\n",
        "# In ra độ dài của raw_datasets[\"validation\"]\n",
        "# và validation_dataset để so sánh.\n",
        "len(raw_datasets[\"validation\"]), len(validation_dataset)"
      ],
      "metadata": {
        "id": "LVMoKOLhnNPA"
      },
      "execution_count": null,
      "outputs": []
    },
    {
      "cell_type": "markdown",
      "source": [
        "## Train model"
      ],
      "metadata": {
        "id": "Sw9VNhZinPM4"
      }
    },
    {
      "cell_type": "code",
      "source": [
        "# Load model\n",
        "model = AutoModelForQuestionAnswering.from_pretrained(MODEL_NAME)"
      ],
      "metadata": {
        "id": "yF-XyeHWnQMW"
      },
      "execution_count": null,
      "outputs": []
    },
    {
      "cell_type": "code",
      "source": [
        "# Tạo đối tượng args là các tham số cho quá trình huấn luyện\n",
        "args = TrainingArguments(\n",
        "    output_dir=\"distilbert-finetuned-squadv2\", # Thư mục lưu output\n",
        "    evaluation_strategy=\"no\", # Chế độ đánh giá không tự động sau mỗi epoch\n",
        "    save_strategy=\"epoch\", # Lưu checkpoint sau mỗi epoch\n",
        "    learning_rate=2e-5, # Tốc độ học\n",
        "    num_train_epochs=3, # Số epoch huấn luyện\n",
        "    weight_decay=0.01, # Giảm trọng lượng mô hình để tránh overfitting\n",
        "    fp16=True, # Sử dụng kiểu dữ liệu half-precision để tối ưu tài nguyên\n",
        "    push_to_hub=True,) # Đẩy kết quả huấn luyện lên HuggingFace Hub"
      ],
      "metadata": {
        "id": "9uPzv26mnSZt"
      },
      "execution_count": null,
      "outputs": []
    },
    {
      "cell_type": "code",
      "source": [
        "# Khởi tạo một đối tượng Trainer để huấn luyện mô hình\n",
        "trainer = Trainer(\n",
        "    model=model, # Sử dụng mô hình đã tạo trước đó\n",
        "    args=args, # Các tham số và cấu hình huấn luyện\n",
        "    train_dataset=train_dataset, # Sử dụng tập dữ liệu huấn luyện\n",
        "    eval_dataset=validation_dataset, # Sử dụng tập dữ liệu đánh giá\n",
        "    tokenizer=tokenizer, # Sử dụng tokenizer để xử lý văn bản\n",
        ")\n",
        "# Bắt đầu quá trình huấn luyện\n",
        "trainer.train()"
      ],
      "metadata": {
        "id": "RLevNPfhnZVY"
      },
      "execution_count": null,
      "outputs": []
    },
    {
      "cell_type": "code",
      "source": [
        "# Gửi dữ liệu đào tạo lên Hub\n",
        "trainer.push_to_hub(commit_message=\"Training complete\")"
      ],
      "metadata": {
        "id": "qIvr9arFnbFT"
      },
      "execution_count": null,
      "outputs": []
    },
    {
      "cell_type": "markdown",
      "source": [
        "## Evaluate model"
      ],
      "metadata": {
        "id": "8ZbExaqWnbxR"
      }
    },
    {
      "cell_type": "code",
      "source": [
        "N_BEST = 20 # Số lượng kết quả tốt nhất được lựa chọn sau khi dự đoán\n",
        "MAX_ANS_LENGTH = 30 # Độ dài tối đa cho câu trả lời dự đoán\n",
        "\n",
        "def compute_metrics(start_logits, end_logits, features, examples):\n",
        "    # Tạo một từ điển mặc định để ánh xạ mỗi ví dụ\n",
        "    # với danh sách các đặc trưng tương ứng\n",
        "    example_to_features = collections.defaultdict(list)\n",
        "    for idx, feature in enumerate(features):\n",
        "        example_to_features[feature['example_id']].append(idx)\n",
        "\n",
        "    predicted_answers = []\n",
        "    for example in tqdm(examples):\n",
        "        example_id = example['id']\n",
        "        context = example['context']\n",
        "        answers = []\n",
        "\n",
        "    # Lặp qua tất cả các đặc trưng liên quan đến ví dụ đó\n",
        "    for feature_index in example_to_features[example_id]:\n",
        "        start_logit = start_logits[feature_index]\n",
        "        end_logit = end_logits[feature_index]\n",
        "        offsets = features[feature_index][’offset_mapping’]\n",
        "\n",
        "        # Lấy các chỉ số có giá trị lớn nhất cho start và end logits\n",
        "        start_indexes = np.argsort(start_logit)[-1:-N_BEST-1:-1].tolist()\n",
        "        end_indexes = np.argsort(end_logit)[-1:-N_BEST-1:-1].tolist()\n",
        "        for start_index in start_indexes:\n",
        "            for end_index in end_indexes:\n",
        "                # Bỏ qua các câu trả lời\n",
        "                # không hoàn toàn nằm trong ngữ cảnh\n",
        "                if offsets[start_index] is None or \\\n",
        "                offsets[end_index] is None:\n",
        "                continue\n",
        "                # Bỏ qua các câu trả lời có độ dài > max_answer_length\n",
        "                if end_index-start_index + 1 > MAX_ANS_LENGTH:\n",
        "                continue\n",
        "\n",
        "                # Tạo một câu trả lời mới\n",
        "                text = context[\n",
        "                offsets[start_index][0]:offsets[end_index][1]]\n",
        "                logit_score = start_logit[start_index] + \\\n",
        "                end_logit[end_index]\n",
        "                answer = {\n",
        "                'text': text,\n",
        "                'logit_score': logit_score,\n",
        "                }\n",
        "                answers.append(answer)\n",
        "\n",
        "    # Chọn câu trả lời có điểm số tốt nhất\n",
        "        if len(answers) > 0:\n",
        "        best_answer = max(answers, key=lambda x: x['logit_score'])\n",
        "          answer_dict = {\n",
        "        'id': example_id,\n",
        "        'prediction_text': best_answer['text'],\n",
        "        'no_answer_probability': 1-best_answer['logit_score']\n",
        "        }\n",
        "        else:\n",
        "        answer_dict = {\n",
        "        'id': example_id,\n",
        "        'prediction_text': '',\n",
        "        'no_answer_probability': 1.0\n",
        "        }\n",
        "        predicted_answers.append(answer_dict)\n",
        "\n",
        "    # Tạo danh sách câu trả lời lý thuyết từ các ví dụ\n",
        "    theoretical_answers = [\n",
        "    {'id': ex['id'], 'answers': ex['answers']} for ex in examples\n",
        "    ]\n",
        "    # Sử dụng metric.compute để tính toán các độ đo và trả về kết quả\n",
        "    return metric.compute(\n",
        "    predictions=predicted_answers,\n",
        "    references=theoretical_answers\n",
        "    )\n",
        "\n",
        "# Thực hiện dự đoán trên tập dữ liệu validation\n",
        "predictions, _, _ = trainer.predict(validation_dataset)\n",
        "\n",
        "# Lấy ra thông tin về các điểm bắt đầu và\n",
        "# điểm kết thúc của câu trả lời dự đoán\n",
        "start_logits, end_logits = predictions\n",
        "\n",
        "# Tính toán các chỉ số đánh giá sử dụng hàm compute_metrics\n",
        "results = compute_metrics(\n",
        "    start_logits,\n",
        "    end_logits,\n",
        "    validation_dataset,\n",
        "    raw_datasets[\"validation\"]\n",
        ")\n",
        "results"
      ],
      "metadata": {
        "id": "3oNbwktmndmp"
      },
      "execution_count": null,
      "outputs": []
    },
    {
      "cell_type": "markdown",
      "source": [
        "## Load model from hub"
      ],
      "metadata": {
        "id": "n5-Nh8tYnlYU"
      }
    },
    {
      "cell_type": "code",
      "source": [
        "# Use a pipeline as a high-level helper\n",
        "from transformers import pipeline\n",
        "\n",
        "PIPELINE_NAME = 'question-answering'\n",
        "MODEL_NAME = 'thangduong0509/distilbert-finetuned-squadv2'\n",
        "pipe = pipeline(PIPELINE_NAME, model=MODEL_NAME)\n",
        "Sau đây ta sẽ chạy thử một example để test model:\n",
        "INPUT_QUESTION = 'What is my name?'\n",
        "INPUT_CONTEXT = 'My name is AI and I live in Vietnam.'\n",
        "pipe(question=INPUT_QUESTION, context=INPUT_CONTEXT)"
      ],
      "metadata": {
        "id": "YWZIEd2SnmsR"
      },
      "execution_count": null,
      "outputs": []
    }
  ]
}